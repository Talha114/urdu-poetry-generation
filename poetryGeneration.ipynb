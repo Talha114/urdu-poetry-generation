{
 "cells": [
  {
   "attachments": {},
   "cell_type": "markdown",
   "id": "1cc580ec",
   "metadata": {},
   "source": [
    "# Urdu Poetry Generation\n",
    "# Author: Talha Ali Khan"
   ]
  },
  {
   "cell_type": "markdown",
   "id": "5648ea2e",
   "metadata": {},
   "source": [
    "Importing Libraries"
   ]
  },
  {
   "cell_type": "code",
   "execution_count": 1,
   "id": "2bc67126",
   "metadata": {},
   "outputs": [],
   "source": [
    "import spacy\n",
    "import random\n",
    "from collections import Counter\n",
    "import string\n",
    "import glob"
   ]
  },
  {
   "cell_type": "markdown",
   "id": "194f136e",
   "metadata": {},
   "source": [
    "Path to other files"
   ]
  },
  {
   "cell_type": "code",
   "execution_count": 2,
   "id": "6f2cd0bb",
   "metadata": {},
   "outputs": [
    {
     "data": {
      "text/plain": [
       "1314"
      ]
     },
     "execution_count": 2,
     "metadata": {},
     "output_type": "execute_result"
    }
   ],
   "source": [
    "path = \"./\"\n",
    "\n",
    "text_files = glob.glob(path + \"**/ur/*\", recursive = True)\n",
    "\n",
    "len(text_files)"
   ]
  },
  {
   "cell_type": "markdown",
   "id": "82ce6949",
   "metadata": {},
   "source": [
    "## Loading Corpus and Splitting Words"
   ]
  },
  {
   "cell_type": "code",
   "execution_count": 3,
   "id": "0dcf3b1e",
   "metadata": {},
   "outputs": [],
   "source": [
    "corpus = open(\"poetry.txt\", encoding='utf-8')\n",
    "corpus = corpus.read()\n",
    "# corpus = corpus.split()"
   ]
  },
  {
   "cell_type": "markdown",
   "id": "c051f0c6",
   "metadata": {},
   "source": [
    "Augmenting Corpora"
   ]
  },
  {
   "cell_type": "code",
   "execution_count": 4,
   "id": "413c0363",
   "metadata": {},
   "outputs": [],
   "source": [
    "for i in range(1314):\n",
    "    corpus += open(text_files[i], encoding='utf-8').read()"
   ]
  },
  {
   "cell_type": "markdown",
   "id": "2868ea1e",
   "metadata": {},
   "source": [
    "Data Cleaning"
   ]
  },
  {
   "cell_type": "code",
   "execution_count": 5,
   "id": "adb18092",
   "metadata": {},
   "outputs": [],
   "source": [
    "for character in string.punctuation:\n",
    "    corpus = corpus.replace(character, '')\n",
    "    corpus = corpus.replace('’', '')"
   ]
  },
  {
   "cell_type": "code",
   "execution_count": 6,
   "id": "1e6e6630",
   "metadata": {
    "scrolled": false
   },
   "outputs": [],
   "source": [
    "lines = corpus.split(\"\\n\")\n",
    "non_empty_lines = [line for line in lines if line.strip() != \"\"]\n",
    "\n",
    "corpus2 = []\n",
    "for line in non_empty_lines:\n",
    "    corpus2.append(line)\n",
    "    \n",
    "starting_words = []\n",
    "for i in range(len(corpus2)):\n",
    "    l = corpus2[i]\n",
    "    starting_words.append(l.split()[0])"
   ]
  },
  {
   "cell_type": "code",
   "execution_count": 7,
   "id": "3c194209",
   "metadata": {},
   "outputs": [],
   "source": [
    "size = len(corpus2)"
   ]
  },
  {
   "cell_type": "markdown",
   "id": "d7c40ea9",
   "metadata": {},
   "source": [
    "## Bigram"
   ]
  },
  {
   "cell_type": "markdown",
   "id": "5c0619ff",
   "metadata": {},
   "source": [
    "Finding all bigrams"
   ]
  },
  {
   "cell_type": "code",
   "execution_count": 8,
   "id": "da76ef5d",
   "metadata": {},
   "outputs": [],
   "source": [
    "bigram = []\n",
    "\n",
    "for i in range(len(corpus.splitlines())):\n",
    "    l = corpus.splitlines()[i]\n",
    "    b = zip(l.split(\" \")[:-1], l.split(\" \")[1:])\n",
    "    for j in b:\n",
    "        bigram.append(j)"
   ]
  },
  {
   "cell_type": "code",
   "execution_count": 9,
   "id": "2d7d025e",
   "metadata": {},
   "outputs": [
    {
     "data": {
      "text/plain": [
       "('گلوں', 'میں')"
      ]
     },
     "execution_count": 9,
     "metadata": {},
     "output_type": "execute_result"
    }
   ],
   "source": [
    "bigram[0]"
   ]
  },
  {
   "cell_type": "markdown",
   "id": "2ecf8216",
   "metadata": {},
   "source": [
    "## Trigram"
   ]
  },
  {
   "cell_type": "markdown",
   "id": "0a9919c8",
   "metadata": {},
   "source": [
    "Finding all trigrams"
   ]
  },
  {
   "cell_type": "code",
   "execution_count": 10,
   "id": "4935641f",
   "metadata": {},
   "outputs": [],
   "source": [
    "trigram = []\n",
    "\n",
    "for i in range(len(corpus.splitlines())):\n",
    "    l = corpus.splitlines()[i]\n",
    "    b = zip(l.split(\" \")[:-2], l.split(\" \")[1:-1], l.split(\" \")[2:])\n",
    "    for j in b:\n",
    "        trigram.append(j)"
   ]
  },
  {
   "cell_type": "code",
   "execution_count": 11,
   "id": "baf4c0c2",
   "metadata": {},
   "outputs": [
    {
     "data": {
      "text/plain": [
       "('گلوں', 'میں', 'رنگ')"
      ]
     },
     "execution_count": 11,
     "metadata": {},
     "output_type": "execute_result"
    }
   ],
   "source": [
    "trigram[0]"
   ]
  },
  {
   "cell_type": "markdown",
   "id": "00f6d160",
   "metadata": {},
   "source": [
    "# Generate Stanzas"
   ]
  },
  {
   "cell_type": "markdown",
   "id": "aa5f85e3",
   "metadata": {},
   "source": [
    "Laplace Smoothing is applied"
   ]
  },
  {
   "cell_type": "markdown",
   "id": "0a3c90fe",
   "metadata": {},
   "source": [
    "Randomly generating number of words per verse"
   ]
  },
  {
   "cell_type": "code",
   "execution_count": 12,
   "id": "892fc5a2",
   "metadata": {},
   "outputs": [],
   "source": [
    "length = random.randint(6,8)"
   ]
  },
  {
   "cell_type": "markdown",
   "id": "734245b1",
   "metadata": {},
   "source": [
    "### Bigram Verses"
   ]
  },
  {
   "cell_type": "markdown",
   "id": "bcef3850",
   "metadata": {},
   "source": [
    "Verses are generated using trigrams"
   ]
  },
  {
   "cell_type": "code",
   "execution_count": 13,
   "id": "54f89c59",
   "metadata": {
    "scrolled": false
   },
   "outputs": [],
   "source": [
    "stanza1 = []\n",
    "for j in range(1,21):\n",
    "    verse = []\n",
    "    first_word = random.choice(starting_words)    \n",
    "\n",
    "    for i in range(length):\n",
    "        verse.append(first_word)\n",
    "        t1 = [b for b in bigram if b[0] == first_word]\n",
    "        total = len([b for b in bigram if b[0] == first_word])\n",
    "        \n",
    "        if bool(t1) == False:\n",
    "            continue\n",
    "\n",
    "        c = Counter(w[1] for w in t1)        \n",
    "        next_word = max(c, key=c.get)\n",
    "\n",
    "        first_word = next_word\n",
    "\n",
    "    verse1 = \" \".join(verse)  \n",
    "    verse1 + '\\n'\n",
    "    \n",
    "    stanza1.append(verse1)  \n",
    "    if j % 2 == 0 and j != 0:\n",
    "        stanza1.append(\"\")  "
   ]
  },
  {
   "cell_type": "code",
   "execution_count": 14,
   "id": "17f6c661",
   "metadata": {},
   "outputs": [
    {
     "data": {
      "text/plain": [
       "['نالہ نارسا پایا ہے کہ   ',\n",
       " 'آج ہم نے کیا ہے کہ  ',\n",
       " '',\n",
       " 'کہ       ',\n",
       " 'ہوا ہے کہ     ',\n",
       " '',\n",
       " 'تو کیا ہے کہ    ',\n",
       " 'بر نہیں آتی ہے کہ   ',\n",
       " '',\n",
       " 'ہے کہ      ',\n",
       " 'آپ سے گزر جائے گا   ',\n",
       " '',\n",
       " 'کہ       ',\n",
       " 'مگر یہ وہ بھی نہیں آتی ہے کہ',\n",
       " '',\n",
       " 'تو کیا ہے کہ    ',\n",
       " 'اس کی طرح عیش نیام سے گزر جائے',\n",
       " '',\n",
       " 'ترے وعدہ نہ ہوا ہے کہ  ',\n",
       " 'کہ       ',\n",
       " '',\n",
       " 'کتنے معتبر ٹھہرے ٹھہرے ٹھہرے ٹھہرے ٹھہرے ٹھہرے',\n",
       " 'سر و دل کا نہ ہوا ہے کہ',\n",
       " '',\n",
       " 'بلائے کیوں نہ ہوا ہے کہ  ',\n",
       " 'میں ہے کہ     ',\n",
       " '',\n",
       " 'پھر لگا ہوا ہے کہ   ',\n",
       " 'سچ کہتے ہو گئیں کھولتے ہی کیوں نہ',\n",
       " '']"
      ]
     },
     "execution_count": 14,
     "metadata": {},
     "output_type": "execute_result"
    }
   ],
   "source": [
    "stanza1"
   ]
  },
  {
   "cell_type": "code",
   "execution_count": 15,
   "id": "7d6771cd",
   "metadata": {},
   "outputs": [],
   "source": [
    "poem1 = '\\n'.join(stanza1)"
   ]
  },
  {
   "cell_type": "code",
   "execution_count": 16,
   "id": "550c2dc2",
   "metadata": {},
   "outputs": [],
   "source": [
    "f = open(\"poem1.txt\", \"w\", encoding='utf-8')\n",
    "f.write(poem1)\n",
    "f.close()"
   ]
  },
  {
   "cell_type": "code",
   "execution_count": 17,
   "id": "2dec5380",
   "metadata": {
    "scrolled": true
   },
   "outputs": [
    {
     "name": "stdout",
     "output_type": "stream",
     "text": [
      "نالہ نارسا پایا ہے کہ   \n",
      "آج ہم نے کیا ہے کہ  \n",
      "\n",
      "کہ       \n",
      "ہوا ہے کہ     \n",
      "\n",
      "تو کیا ہے کہ    \n",
      "بر نہیں آتی ہے کہ   \n",
      "\n",
      "ہے کہ      \n",
      "آپ سے گزر جائے گا   \n",
      "\n",
      "کہ       \n",
      "مگر یہ وہ بھی نہیں آتی ہے کہ\n",
      "\n",
      "تو کیا ہے کہ    \n",
      "اس کی طرح عیش نیام سے گزر جائے\n",
      "\n",
      "ترے وعدہ نہ ہوا ہے کہ  \n",
      "کہ       \n",
      "\n",
      "کتنے معتبر ٹھہرے ٹھہرے ٹھہرے ٹھہرے ٹھہرے ٹھہرے\n",
      "سر و دل کا نہ ہوا ہے کہ\n",
      "\n",
      "بلائے کیوں نہ ہوا ہے کہ  \n",
      "میں ہے کہ     \n",
      "\n",
      "پھر لگا ہوا ہے کہ   \n",
      "سچ کہتے ہو گئیں کھولتے ہی کیوں نہ\n",
      "\n"
     ]
    }
   ],
   "source": [
    "print(poem1)"
   ]
  },
  {
   "cell_type": "markdown",
   "id": "82b02790",
   "metadata": {},
   "source": [
    "### Trigram Verses"
   ]
  },
  {
   "cell_type": "markdown",
   "id": "3ab6187c",
   "metadata": {},
   "source": [
    "Verses are generated using trigrams"
   ]
  },
  {
   "cell_type": "code",
   "execution_count": 18,
   "id": "3b2d491f",
   "metadata": {
    "scrolled": false
   },
   "outputs": [],
   "source": [
    "stanza1 = []\n",
    "for j in range(1,21):\n",
    "    \n",
    "    first_word = random.choice(starting_words)\n",
    "    verse = []\n",
    "    t1 = [b for b in bigram if b[0] == first_word]\n",
    "    #     total = len([b for b in bigram if b[0] == first_word])\n",
    "\n",
    "    c = Counter(w[1] for w in t1)        \n",
    "    next_word = max(c, key=c.get)\n",
    "\n",
    "    second_word = next_word\n",
    "\n",
    "    verse.append(first_word)\n",
    "    verse.append(second_word)\n",
    "\n",
    "    for i in range(length):\n",
    "        t1 = [b for b in trigram if b[0] == first_word and b[1] == second_word]\n",
    "        total = len([b for b in trigram if b[0] == first_word and b[1] == second_word])\n",
    "        \n",
    "        total += size # Laplace smoothing is applied\n",
    "\n",
    "        if bool(t1) == False:\n",
    "            continue\n",
    "\n",
    "        c = Counter(w[2] for w in t1)        \n",
    "        next_word = max(c, key=c.get)\n",
    "\n",
    "        verse.append(next_word)\n",
    "\n",
    "        first_word = second_word\n",
    "        second_word = next_word    \n",
    "\n",
    "    verse1 = \" \".join(verse)  \n",
    "    verse1 + '\\n'\n",
    "    \n",
    "    stanza1.append(verse1)  \n",
    "    if j % 2 == 0 and j != 0:\n",
    "        stanza1.append(\"\")  "
   ]
  },
  {
   "cell_type": "code",
   "execution_count": 19,
   "id": "f46493d2",
   "metadata": {},
   "outputs": [
    {
     "data": {
      "text/plain": [
       "['گر نہیں آتی',\n",
       " 'سیہ مستی ہے اہلِ خاک کو اَبرِ بہاری سے',\n",
       " '',\n",
       " 'کس سے میں نے چاہا تھا کہ مر جائیں، سو',\n",
       " 'کھتے ھیں جس کو ہو دین و دل و جاں',\n",
       " '',\n",
       " 'ہر اک حلقہٴ گرداب تھا',\n",
       " 'ہمارے چمن کا یہ رازدار ہوگا',\n",
       " '',\n",
       " 'ہاں، جو جفا بھی آپ نے کی قاعدے سے کی',\n",
       " 'چیتے کا جگر چاہیئے شاہیں کا تجسس',\n",
       " '',\n",
       " 'حضرتِ ناصح گر آئیں، دیدہ و دل و جاں عدو',\n",
       " 'جس کو ہو دین و دل و جاں عدو کریں',\n",
       " '',\n",
       " 'رازِ نہانِ عشق',\n",
       " 'کس سے میں نے چاہا تھا کہ مر جائیں، سو',\n",
       " '',\n",
       " 'جو تو نے آئينہ، تمثال دار تھا',\n",
       " 'مجھے دینا پڑا حساب',\n",
       " '',\n",
       " 'جنت کا اعلان ہو جیسے کوئی غم گسار ہوتا',\n",
       " 'اگر گیا تو وہی دل کا درد تھا',\n",
       " '',\n",
       " 'مستی کی',\n",
       " 'چمکا گمنام تھا وطن میں',\n",
       " '',\n",
       " 'شعر کا احوال کہوں کیا غالب',\n",
       " 'ضعف نے رنگ اختلاط کا',\n",
       " '']"
      ]
     },
     "execution_count": 19,
     "metadata": {},
     "output_type": "execute_result"
    }
   ],
   "source": [
    "stanza1"
   ]
  },
  {
   "cell_type": "code",
   "execution_count": 20,
   "id": "5bd3a9f6",
   "metadata": {},
   "outputs": [],
   "source": [
    "poem2 = '\\n'.join(stanza1)"
   ]
  },
  {
   "cell_type": "code",
   "execution_count": 21,
   "id": "edf533fc",
   "metadata": {},
   "outputs": [],
   "source": [
    "f = open(\"poem2.txt\", \"w\", encoding='utf-8')\n",
    "f.write(poem2)\n",
    "f.close()"
   ]
  },
  {
   "cell_type": "code",
   "execution_count": 22,
   "id": "6d7f847e",
   "metadata": {},
   "outputs": [
    {
     "data": {
      "text/plain": [
       "'گر نہیں آتی\\nسیہ مستی ہے اہلِ خاک کو اَبرِ بہاری سے\\n\\nکس سے میں نے چاہا تھا کہ مر جائیں، سو\\nکھتے ھیں جس کو ہو دین و دل و جاں\\n\\nہر اک حلقہٴ گرداب تھا\\nہمارے چمن کا یہ رازدار ہوگا\\n\\nہاں، جو جفا بھی آپ نے کی قاعدے سے کی\\nچیتے کا جگر چاہیئے شاہیں کا تجسس\\n\\nحضرتِ ناصح گر آئیں، دیدہ و دل و جاں عدو\\nجس کو ہو دین و دل و جاں عدو کریں\\n\\nرازِ نہانِ عشق\\nکس سے میں نے چاہا تھا کہ مر جائیں، سو\\n\\nجو تو نے آئينہ، تمثال دار تھا\\nمجھے دینا پڑا حساب\\n\\nجنت کا اعلان ہو جیسے کوئی غم گسار ہوتا\\nاگر گیا تو وہی دل کا درد تھا\\n\\nمستی کی\\nچمکا گمنام تھا وطن میں\\n\\nشعر کا احوال کہوں کیا غالب\\nضعف نے رنگ اختلاط کا\\n'"
      ]
     },
     "execution_count": 22,
     "metadata": {},
     "output_type": "execute_result"
    }
   ],
   "source": [
    "poem2"
   ]
  },
  {
   "cell_type": "code",
   "execution_count": null,
   "id": "6306e42b",
   "metadata": {},
   "outputs": [],
   "source": []
  }
 ],
 "metadata": {
  "kernelspec": {
   "display_name": "Python 3 (ipykernel)",
   "language": "python",
   "name": "python3"
  },
  "language_info": {
   "codemirror_mode": {
    "name": "ipython",
    "version": 3
   },
   "file_extension": ".py",
   "mimetype": "text/x-python",
   "name": "python",
   "nbconvert_exporter": "python",
   "pygments_lexer": "ipython3",
   "version": "3.10.2"
  }
 },
 "nbformat": 4,
 "nbformat_minor": 5
}
